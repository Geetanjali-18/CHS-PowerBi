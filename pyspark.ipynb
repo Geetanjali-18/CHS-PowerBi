{
  "nbformat": 4,
  "nbformat_minor": 0,
  "metadata": {
    "colab": {
      "provenance": [],
      "gpuType": "T4",
      "authorship_tag": "ABX9TyPQXheonu019j7REqIVEiaf",
      "include_colab_link": true
    },
    "kernelspec": {
      "name": "python3",
      "display_name": "Python 3"
    },
    "language_info": {
      "name": "python"
    },
    "accelerator": "GPU"
  },
  "cells": [
    {
      "cell_type": "markdown",
      "metadata": {
        "id": "view-in-github",
        "colab_type": "text"
      },
      "source": [
        "<a href=\"https://colab.research.google.com/github/Geetanjali-18/CHS-PowerBi/blob/main/pyspark.ipynb\" target=\"_parent\"><img src=\"https://colab.research.google.com/assets/colab-badge.svg\" alt=\"Open In Colab\"/></a>"
      ]
    },
    {
      "cell_type": "markdown",
      "source": [
        " ### In PySpark, create a program that reads a CSV file containing sales data, performs data cleaning by handling missing values and removing duplicates, calculates the total sales amount for each product, and finally, outputs the results to a new CSV file. Ensure to use transformations and actions in your PySpark script"
      ],
      "metadata": {
        "id": "MBxOlBs4VeSJ"
      }
    },
    {
      "cell_type": "code",
      "source": [
        "pip install pyspark"
      ],
      "metadata": {
        "colab": {
          "base_uri": "https://localhost:8080/"
        },
        "id": "37PHGhmaX3Xe",
        "outputId": "0c5f8343-8024-4594-925b-0d0341ab224d"
      },
      "execution_count": 1,
      "outputs": [
        {
          "output_type": "stream",
          "name": "stdout",
          "text": [
            "Collecting pyspark\n",
            "  Downloading pyspark-3.5.1.tar.gz (317.0 MB)\n",
            "\u001b[2K     \u001b[90m━━━━━━━━━━━━━━━━━━━━━━━━━━━━━━━━━━━━━━━━\u001b[0m \u001b[32m317.0/317.0 MB\u001b[0m \u001b[31m2.6 MB/s\u001b[0m eta \u001b[36m0:00:00\u001b[0m\n",
            "\u001b[?25h  Preparing metadata (setup.py) ... \u001b[?25l\u001b[?25hdone\n",
            "Requirement already satisfied: py4j==0.10.9.7 in /usr/local/lib/python3.10/dist-packages (from pyspark) (0.10.9.7)\n",
            "Building wheels for collected packages: pyspark\n",
            "  Building wheel for pyspark (setup.py) ... \u001b[?25l\u001b[?25hdone\n",
            "  Created wheel for pyspark: filename=pyspark-3.5.1-py2.py3-none-any.whl size=317488491 sha256=a9b64c4779ecf0e87d06c72c0ecda61c955c80b171443184679c6962d8849043\n",
            "  Stored in directory: /root/.cache/pip/wheels/80/1d/60/2c256ed38dddce2fdd93be545214a63e02fbd8d74fb0b7f3a6\n",
            "Successfully built pyspark\n",
            "Installing collected packages: pyspark\n",
            "Successfully installed pyspark-3.5.1\n"
          ]
        }
      ]
    },
    {
      "cell_type": "code",
      "source": [
        "from pyspark.sql import SparkSession"
      ],
      "metadata": {
        "id": "xlleKHhVX5X2"
      },
      "execution_count": null,
      "outputs": []
    },
    {
      "cell_type": "code",
      "source": [
        "# create a spark session\n",
        "spark = SparkSession.builder.appName(\"Sales Data Cleaning\").getOrCreate()"
      ],
      "metadata": {
        "id": "KnppEGvoYQU1"
      },
      "execution_count": null,
      "outputs": []
    },
    {
      "cell_type": "code",
      "source": [
        "# Define paths for input and output files\n",
        "input_path = '/sale data.csv'\n",
        "output_path = '/content/output/cleaned_csv.csv'"
      ],
      "metadata": {
        "id": "_YNGG_ZWYeIu"
      },
      "execution_count": null,
      "outputs": []
    },
    {
      "cell_type": "code",
      "source": [
        "# Read csv files to a dataframe\n",
        "sales_df = spark.read\\\n",
        ".option(\"header\", True)\\\n",
        ".csv(input_path)"
      ],
      "metadata": {
        "id": "t2F0lQhHY3Lh"
      },
      "execution_count": null,
      "outputs": []
    },
    {
      "cell_type": "code",
      "source": [
        "sales_df.describe()"
      ],
      "metadata": {
        "colab": {
          "base_uri": "https://localhost:8080/"
        },
        "id": "S11okY6IaR3z",
        "outputId": "75472721-bbf1-45af-8253-24f3790e7756"
      },
      "execution_count": null,
      "outputs": [
        {
          "output_type": "execute_result",
          "data": {
            "text/plain": [
              "DataFrame[summary: string, product_id: string, sales_amount: string, product_name: string]"
            ]
          },
          "metadata": {},
          "execution_count": 27
        }
      ]
    },
    {
      "cell_type": "code",
      "source": [
        "sales_df.show()"
      ],
      "metadata": {
        "colab": {
          "base_uri": "https://localhost:8080/"
        },
        "id": "f78Ak5qV6HSd",
        "outputId": "6396b85c-84e2-499a-881a-3ed1992e6088"
      },
      "execution_count": null,
      "outputs": [
        {
          "output_type": "stream",
          "name": "stdout",
          "text": [
            "+----------+------------+------------+\n",
            "|product_id|sales_amount|product_name|\n",
            "+----------+------------+------------+\n",
            "|         0|          72|       Pants|\n",
            "|         1|          48|         Hat|\n",
            "|         2|          23|       Shoes|\n",
            "|         3|          81|       Shirt|\n",
            "|         4|        NULL|       Pants|\n",
            "|         6|          64|       Shoes|\n",
            "|         7|          92|       Shirt|\n",
            "+----------+------------+------------+\n",
            "\n"
          ]
        }
      ]
    },
    {
      "cell_type": "markdown",
      "source": [
        "## Handling missing values:\n",
        "1. Dropping columns\n",
        "2. Dropping Rows\n",
        "3. Various parameter in dropping functionalities\n",
        "4. Handling missing values by mean, mode median."
      ],
      "metadata": {
        "id": "RYTxVJlW2mY5"
      }
    },
    {
      "cell_type": "code",
      "source": [
        "# 1. Dropping columns\n",
        "cleaned_df = sales_df.drop('sales_amount')"
      ],
      "metadata": {
        "id": "1a6gkJocZTAX"
      },
      "execution_count": null,
      "outputs": []
    },
    {
      "cell_type": "code",
      "source": [
        "cleaned_df.show()"
      ],
      "metadata": {
        "id": "4E6-sxq2Z_ri",
        "colab": {
          "base_uri": "https://localhost:8080/"
        },
        "outputId": "3dc9e3bb-e42d-4e04-f9dc-1b58694db20e"
      },
      "execution_count": null,
      "outputs": [
        {
          "output_type": "stream",
          "name": "stdout",
          "text": [
            "+----------+------------+\n",
            "|product_id|product_name|\n",
            "+----------+------------+\n",
            "|         0|       Pants|\n",
            "|         1|         Hat|\n",
            "|         2|       Shoes|\n",
            "|         3|       Shirt|\n",
            "|         4|       Pants|\n",
            "|         6|       Shoes|\n",
            "|         7|       Shirt|\n",
            "+----------+------------+\n",
            "\n"
          ]
        }
      ]
    },
    {
      "cell_type": "code",
      "source": [
        "# 2. Dropping rows\n",
        "cleaned_df = sales_df.na.drop()"
      ],
      "metadata": {
        "id": "lkSEAyrO6gCB"
      },
      "execution_count": null,
      "outputs": []
    },
    {
      "cell_type": "code",
      "source": [
        "cleaned_df.show()"
      ],
      "metadata": {
        "colab": {
          "base_uri": "https://localhost:8080/"
        },
        "id": "9NF5-OTd7GIH",
        "outputId": "f953669c-ada8-416a-824a-7aedc13eb70c"
      },
      "execution_count": null,
      "outputs": [
        {
          "output_type": "stream",
          "name": "stdout",
          "text": [
            "+----------+------------+------------+\n",
            "|product_id|sales_amount|product_name|\n",
            "+----------+------------+------------+\n",
            "|         0|          72|       Pants|\n",
            "|         1|          48|         Hat|\n",
            "|         2|          23|       Shoes|\n",
            "|         3|          81|       Shirt|\n",
            "|         6|          64|       Shoes|\n",
            "|         7|          92|       Shirt|\n",
            "+----------+------------+------------+\n",
            "\n"
          ]
        }
      ]
    },
    {
      "cell_type": "code",
      "source": [
        "# there are two parameter - \"how\" and \"threshhold\"\n",
        "# - how - any or all\n",
        "# when how = \"any\" - row having any null should be dropped\n",
        "# when how = \"all\" - row having all null should be removed\n",
        "cleaned_df = sales_df.na.drop(how = \"any\").show()"
      ],
      "metadata": {
        "colab": {
          "base_uri": "https://localhost:8080/"
        },
        "id": "a9-qf77u7ISS",
        "outputId": "6556f05b-fdc2-4798-cafb-bc4222bcc2df"
      },
      "execution_count": null,
      "outputs": [
        {
          "output_type": "stream",
          "name": "stdout",
          "text": [
            "+----------+------------+------------+\n",
            "|product_id|sales_amount|product_name|\n",
            "+----------+------------+------------+\n",
            "|         0|          72|       Pants|\n",
            "|         1|          48|         Hat|\n",
            "|         2|          23|       Shoes|\n",
            "|         3|          81|       Shirt|\n",
            "|         6|          64|       Shoes|\n",
            "|         7|          92|       Shirt|\n",
            "+----------+------------+------------+\n",
            "\n"
          ]
        }
      ]
    },
    {
      "cell_type": "code",
      "source": [
        "sales_df.na.drop(how = \"all\").show()"
      ],
      "metadata": {
        "colab": {
          "base_uri": "https://localhost:8080/"
        },
        "id": "MCRuf3qW-MnO",
        "outputId": "09a54f7b-f76e-4f59-da5d-4bd595636135"
      },
      "execution_count": null,
      "outputs": [
        {
          "output_type": "stream",
          "name": "stdout",
          "text": [
            "+----------+------------+------------+\n",
            "|product_id|sales_amount|product_name|\n",
            "+----------+------------+------------+\n",
            "|         0|          72|       Pants|\n",
            "|         1|          48|         Hat|\n",
            "|         2|          23|       Shoes|\n",
            "|         3|          81|       Shirt|\n",
            "|         4|        NULL|       Pants|\n",
            "|         6|          64|       Shoes|\n",
            "|         7|          92|       Shirt|\n",
            "+----------+------------+------------+\n",
            "\n"
          ]
        }
      ]
    },
    {
      "cell_type": "code",
      "source": [
        "# thresh - how many null value row will be removed\n",
        "sales_df.na.drop(thresh = 0).show()"
      ],
      "metadata": {
        "colab": {
          "base_uri": "https://localhost:8080/"
        },
        "id": "ajgQXjXO-TYL",
        "outputId": "7980d72f-2c25-417e-c689-bcdd7902a6d0"
      },
      "execution_count": null,
      "outputs": [
        {
          "output_type": "stream",
          "name": "stdout",
          "text": [
            "+----------+------------+------------+\n",
            "|product_id|sales_amount|product_name|\n",
            "+----------+------------+------------+\n",
            "|         0|          72|       Pants|\n",
            "|         1|          48|         Hat|\n",
            "|         2|          23|       Shoes|\n",
            "|         3|          81|       Shirt|\n",
            "|         4|        NULL|       Pants|\n",
            "|         6|          64|       Shoes|\n",
            "|         7|          92|       Shirt|\n",
            "+----------+------------+------------+\n",
            "\n"
          ]
        }
      ]
    },
    {
      "cell_type": "code",
      "source": [
        "# 3. Various parameter in dropping functionalities\n",
        "sales_df.na.fill(\"values missing\", \"sales_amount\").show()"
      ],
      "metadata": {
        "colab": {
          "base_uri": "https://localhost:8080/"
        },
        "id": "0OqOxPwL-vg4",
        "outputId": "6fb3948a-ebb2-4849-a77f-296e45e2aa88"
      },
      "execution_count": null,
      "outputs": [
        {
          "output_type": "stream",
          "name": "stdout",
          "text": [
            "+----------+--------------+------------+\n",
            "|product_id|  sales_amount|product_name|\n",
            "+----------+--------------+------------+\n",
            "|         0|            72|       Pants|\n",
            "|         1|            48|         Hat|\n",
            "|         2|            23|       Shoes|\n",
            "|         3|            81|       Shirt|\n",
            "|         4|values missing|       Pants|\n",
            "|         6|            64|       Shoes|\n",
            "|         7|            92|       Shirt|\n",
            "+----------+--------------+------------+\n",
            "\n"
          ]
        }
      ]
    },
    {
      "cell_type": "code",
      "source": [
        "# 4. Handling missing value by mean\n",
        "from pyspark.ml.feature import Imputer\n",
        "\n",
        "imputer = Imputer(\n",
        "    inputCols = ['sales_amount'],\n",
        "    outputCols = [\"{}_imputed\".format(c) for c in ['sales_amount']]\n",
        ").setStrategy(\"mean\")"
      ],
      "metadata": {
        "id": "Ms6TR882AzSD"
      },
      "execution_count": null,
      "outputs": []
    },
    {
      "cell_type": "markdown",
      "source": [
        "## Handling duplicate value\n"
      ],
      "metadata": {
        "id": "cgUZTnNIKl-W"
      }
    },
    {
      "cell_type": "code",
      "source": [
        "sales_df.dropDuplicates(['product_name']).show()\n"
      ],
      "metadata": {
        "colab": {
          "base_uri": "https://localhost:8080/"
        },
        "id": "UUIKcm8HK4k6",
        "outputId": "2a670dbc-1853-4e1d-c7ba-1aa6d7650c35"
      },
      "execution_count": null,
      "outputs": [
        {
          "output_type": "stream",
          "name": "stdout",
          "text": [
            "+----------+------------+------------+\n",
            "|product_id|sales_amount|product_name|\n",
            "+----------+------------+------------+\n",
            "|         1|          48|         Hat|\n",
            "|         0|          72|       Pants|\n",
            "|         3|          81|       Shirt|\n",
            "|         2|          23|       Shoes|\n",
            "+----------+------------+------------+\n",
            "\n"
          ]
        }
      ]
    },
    {
      "cell_type": "code",
      "source": [
        "# Calculate total sale amount each product\n",
        "sales = sales_df.groupBy(\"product_name\")\\\n",
        ".agg({\"sales_amount\":\"sum\"}).show()"
      ],
      "metadata": {
        "colab": {
          "base_uri": "https://localhost:8080/"
        },
        "id": "ZxjJUo77Qn4X",
        "outputId": "f825220b-5941-42d0-e113-6149a99ed720"
      },
      "execution_count": null,
      "outputs": [
        {
          "output_type": "stream",
          "name": "stdout",
          "text": [
            "+------------+-----------------+\n",
            "|product_name|sum(sales_amount)|\n",
            "+------------+-----------------+\n",
            "|         Hat|             48.0|\n",
            "|       Pants|             72.0|\n",
            "|       Shirt|            173.0|\n",
            "|       Shoes|             87.0|\n",
            "+------------+-----------------+\n",
            "\n"
          ]
        }
      ]
    },
    {
      "cell_type": "code",
      "source": [
        "# Save result in new file\n",
        "sales_df.write.csv(output_path, header=True)"
      ],
      "metadata": {
        "id": "NraVh-yLRO_i"
      },
      "execution_count": null,
      "outputs": []
    },
    {
      "cell_type": "code",
      "source": [
        "spark.stop()"
      ],
      "metadata": {
        "id": "qSEGY2lsVLUC"
      },
      "execution_count": null,
      "outputs": []
    },
    {
      "cell_type": "code",
      "source": [
        "print(\"Preprocessed data written to \", output_path)"
      ],
      "metadata": {
        "colab": {
          "base_uri": "https://localhost:8080/"
        },
        "id": "UoKD_-c0iMca",
        "outputId": "5c684d0b-1d88-4898-9635-527372800b54"
      },
      "execution_count": null,
      "outputs": [
        {
          "output_type": "stream",
          "name": "stdout",
          "text": [
            "Preprocessed data written to  /content/output/cleaned_csv.csv\n"
          ]
        }
      ]
    },
    {
      "cell_type": "code",
      "source": [],
      "metadata": {
        "id": "CyHcAqvUiYF7"
      },
      "execution_count": null,
      "outputs": []
    }
  ]
}